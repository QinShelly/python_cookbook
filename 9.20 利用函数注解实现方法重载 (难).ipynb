{
 "cells": [
  {
   "cell_type": "code",
   "execution_count": 1,
   "metadata": {},
   "outputs": [
    {
     "name": "stdout",
     "output_type": "stream",
     "text": [
      "Bar 2: 2 3\n",
      "Bar 2: hello 0\n"
     ]
    }
   ],
   "source": [
    "class Spam:\n",
    "    def bar(self, x:int, y:int):\n",
    "        print('Bar 1:', x, y)\n",
    "    def bar(self, s:str, n:int = 0):\n",
    "        print('Bar 2:', s, n)\n",
    "        \n",
    "s = Spam()\n",
    "s.bar(2, 3) # Prints Bar 1: 2 3\n",
    "s.bar('hello') # Prints Bar 2: hello 0"
   ]
  },
  {
   "cell_type": "code",
   "execution_count": null,
   "metadata": {},
   "outputs": [],
   "source": []
  }
 ],
 "metadata": {
  "kernelspec": {
   "display_name": "Python 3",
   "language": "python",
   "name": "python3"
  },
  "language_info": {
   "codemirror_mode": {
    "name": "ipython",
    "version": 3
   },
   "file_extension": ".py",
   "mimetype": "text/x-python",
   "name": "python",
   "nbconvert_exporter": "python",
   "pygments_lexer": "ipython3",
   "version": "3.6.4"
  }
 },
 "nbformat": 4,
 "nbformat_minor": 2
}
