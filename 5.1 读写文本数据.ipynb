{
 "cells": [
  {
   "cell_type": "code",
   "execution_count": 1,
   "metadata": {},
   "outputs": [
    {
     "data": {
      "text/plain": [
       "'asdfa \\nasdf \\npdfython\\nsadf \\nadf adfas d python\\ndsf adfasasdf \\nsdfads\\ndaf adfasasdf python '"
      ]
     },
     "execution_count": 1,
     "metadata": {},
     "output_type": "execute_result"
    }
   ],
   "source": [
    "# Read the entire file as a single string\n",
    "with open('somefile.txt','rt') as f:\n",
    "    data = f.read()\n",
    "\n",
    "data"
   ]
  },
  {
   "cell_type": "code",
   "execution_count": 5,
   "metadata": {},
   "outputs": [
    {
     "name": "stdout",
     "output_type": "stream",
     "text": [
      "asdfa \n",
      "asdf \n",
      "pdfython\n",
      "sadf \n",
      "adf adfas d python\n",
      "dsf adfasasdf \n",
      "sdfads\n",
      "daf adfasasdf python "
     ]
    }
   ],
   "source": [
    "# Iterate over the lines of the file\n",
    "with open('somefile.txt','rt') as f:\n",
    "    for line in f:\n",
    "        print(line,end='')"
   ]
  },
  {
   "cell_type": "code",
   "execution_count": 7,
   "metadata": {},
   "outputs": [],
   "source": [
    "# Write chunks of text data\n",
    "with open('somefile2.txt','wt') as f:\n",
    "    f.write('text1')\n",
    "    f.write('text2')    "
   ]
  },
  {
   "cell_type": "code",
   "execution_count": 8,
   "metadata": {},
   "outputs": [],
   "source": [
    "# Redirected print statement\n",
    "with open('somefile2.txt','wt') as f:\n",
    "    print('text1', file=f)\n",
    "    print('text2', file=f)"
   ]
  },
  {
   "cell_type": "code",
   "execution_count": 10,
   "metadata": {},
   "outputs": [],
   "source": [
    "with open('somefile2.txt','at') as f:\n",
    "    print('text1', file=f)\n",
    "    print('text2', file=f)"
   ]
  },
  {
   "cell_type": "code",
   "execution_count": 9,
   "metadata": {},
   "outputs": [
    {
     "data": {
      "text/plain": [
       "'utf-8'"
      ]
     },
     "execution_count": 9,
     "metadata": {},
     "output_type": "execute_result"
    }
   ],
   "source": [
    "import sys\n",
    "sys.getdefaultencoding()"
   ]
  },
  {
   "cell_type": "code",
   "execution_count": 11,
   "metadata": {},
   "outputs": [],
   "source": [
    "with open('somefile3.txt', 'wt', encoding='latin-1') as f:\n",
    "    print('text1', file=f )"
   ]
  },
  {
   "cell_type": "code",
   "execution_count": 13,
   "metadata": {},
   "outputs": [
    {
     "data": {
      "text/plain": [
       "'asdfa \\nasdf \\npdfython\\nsadf \\nadf adfas d python\\ndsf adfasasdf \\nsdfads\\ndaf adfasasdf python '"
      ]
     },
     "execution_count": 13,
     "metadata": {},
     "output_type": "execute_result"
    }
   ],
   "source": [
    "f = open('somefile.txt', 'rt')\n",
    "data = f.read()\n",
    "f.close()\n",
    "\n",
    "data"
   ]
  },
  {
   "cell_type": "code",
   "execution_count": 15,
   "metadata": {},
   "outputs": [
    {
     "data": {
      "text/plain": [
       "'asdfa \\nasdf \\npdfython\\nsadf \\nadf adfas d python\\ndsf adfasasdf \\nsdfads\\ndaf adfasasdf python '"
      ]
     },
     "execution_count": 15,
     "metadata": {},
     "output_type": "execute_result"
    }
   ],
   "source": [
    "# Newline translation disabled\n",
    "g = open('somefile.txt', 'rt', newline='')\n",
    "data = g.read()\n",
    "g.close()\n",
    "\n",
    "data"
   ]
  },
  {
   "cell_type": "code",
   "execution_count": 17,
   "metadata": {},
   "outputs": [
    {
     "data": {
      "text/plain": [
       "'spicy jalape��o'"
      ]
     },
     "execution_count": 17,
     "metadata": {},
     "output_type": "execute_result"
    }
   ],
   "source": [
    "# Replace bad chars with Unicode U+fffd replacement char\n",
    "f = open('jalapeño.txt', 'rt', encoding='ascii', errors='replace')\n",
    "data = f.read()\n",
    "f.close()\n",
    "\n",
    "data"
   ]
  },
  {
   "cell_type": "code",
   "execution_count": 20,
   "metadata": {},
   "outputs": [
    {
     "data": {
      "text/plain": [
       "'spicy jalapeo'"
      ]
     },
     "execution_count": 20,
     "metadata": {},
     "output_type": "execute_result"
    }
   ],
   "source": [
    "# Ignore bad chars entirely\n",
    "g = open('jalapeño.txt', 'rt', encoding='ascii', errors='ignore')\n",
    "data = g.read()\n",
    "g.close\n",
    "\n",
    "data"
   ]
  },
  {
   "cell_type": "code",
   "execution_count": null,
   "metadata": {},
   "outputs": [],
   "source": []
  }
 ],
 "metadata": {
  "kernelspec": {
   "display_name": "Python 3",
   "language": "python",
   "name": "python3"
  },
  "language_info": {
   "codemirror_mode": {
    "name": "ipython",
    "version": 3
   },
   "file_extension": ".py",
   "mimetype": "text/x-python",
   "name": "python",
   "nbconvert_exporter": "python",
   "pygments_lexer": "ipython3",
   "version": "3.6.4"
  }
 },
 "nbformat": 4,
 "nbformat_minor": 2
}
