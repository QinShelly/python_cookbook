{
 "cells": [
  {
   "cell_type": "code",
   "execution_count": 1,
   "metadata": {},
   "outputs": [
    {
     "name": "stdout",
     "output_type": "stream",
     "text": [
      "Node(0)\n",
      "Node(1)\n",
      "Node(3)\n",
      "Node(4)\n",
      "Node(2)\n",
      "Node(5)\n"
     ]
    }
   ],
   "source": [
    "class Node:\n",
    "    def __init__(self, value):\n",
    "        self._value = value\n",
    "        self._children = []\n",
    "        \n",
    "    def __repr__(self):\n",
    "        return 'Node({!r})'.format(self._value)\n",
    "    \n",
    "    def add_child(self, node):\n",
    "        self._children.append(node)\n",
    "        \n",
    "    def __iter__(self):\n",
    "        return iter(self._children)\n",
    "    \n",
    "    def depth_first(self):\n",
    "        yield self\n",
    "        for c in self:\n",
    "            yield from c.depth_first()\n",
    "            \n",
    "root = Node(0)\n",
    "child1 = Node(1)\n",
    "child2 = Node(2)\n",
    "root.add_child(child1)\n",
    "root.add_child(child2)\n",
    "child1.add_child(Node(3))\n",
    "child1.add_child(Node(4))\n",
    "child2.add_child(Node(5))\n",
    "\n",
    "for ch in root.depth_first():\n",
    "    print(ch)"
   ]
  },
  {
   "cell_type": "code",
   "execution_count": 26,
   "metadata": {},
   "outputs": [
    {
     "name": "stdout",
     "output_type": "stream",
     "text": [
      "1.1 Node(0)\n",
      "1.2 Node(0)\n",
      "Node(0)\n",
      "3.1 Node(0)\n",
      "3.2 Node(0)\n",
      "2.1 Node(0)\n",
      "1.1 Node(1)\n",
      "1.2 Node(1)\n",
      "2.2 Node(0)\n",
      "Node(1)\n",
      "2.1 Node(0)\n",
      "3.1 Node(1)\n",
      "2.3 Node(0)\n",
      "2.4 Node(0)\n",
      "3.1 Node(0)\n"
     ]
    }
   ],
   "source": [
    "class Node2:\n",
    "    def __init__(self, value):\n",
    "        self._value = value\n",
    "        self._children = []\n",
    "        \n",
    "    def __repr__(self):\n",
    "        return 'Node({!r})'.format(self._value)\n",
    "    \n",
    "    def add_child(self, node):\n",
    "        self._children.append(node)\n",
    "        \n",
    "    def __iter__(self):\n",
    "        return iter(self._children)\n",
    "    \n",
    "    def depth_first(self):\n",
    "        return DepthFirstIterator(self)\n",
    "    \n",
    "class DepthFirstIterator(object):\n",
    "    '''\n",
    "    Depth-first traversal\n",
    "    '''\n",
    "    def __init__(self, start_node):\n",
    "        self._node = start_node\n",
    "        self._children_iter = None\n",
    "        self._child_iter = None\n",
    "    \n",
    "    def __iter__(self):\n",
    "        return self\n",
    "    \n",
    "    def __next__(self):\n",
    "        # Return myself if just started; create an iterator for children\n",
    "        if self._children_iter is None:\n",
    "            print (1.1, self._node)\n",
    "            self._children_iter = iter(self._node)\n",
    "            print (1.2, self._node)\n",
    "            return self._node\n",
    "        # If processing a child, return its next item\n",
    "        elif self._child_iter:\n",
    "            try: \n",
    "                print (2.1, self._node)\n",
    "                nextchild = next(self._child_iter)\n",
    "                print (2.2, self._node)\n",
    "                return nextchild\n",
    "            except StopIteration:\n",
    "                print (2.3, self._node)\n",
    "                self._child_iter = None\n",
    "                print (2.4, self._node)\n",
    "                return next(self) # 不返回值, 不然会出一个None\n",
    "        # Advance to the next child and start its iteration\n",
    "        else:\n",
    "            print (3.1, self._node)\n",
    "            self._child_iter = next(self._children_iter).depth_first()\n",
    "            print (3.2, self._node)\n",
    "            return next(self) # 不返回值, 不然会出一个None\n",
    "        \n",
    "root = Node2(0)\n",
    "child1 = Node2(1)\n",
    "child2 = Node2(2)\n",
    "root.add_child(child1)\n",
    "# root.add_child(child2)\n",
    "# child1.add_child(Node2(3))\n",
    "# child1.add_child(Node2(4))\n",
    "# child2.add_child(Node2(5))\n",
    "\n",
    "for ch in root.depth_first():\n",
    "    print(ch)"
   ]
  },
  {
   "cell_type": "code",
   "execution_count": null,
   "metadata": {},
   "outputs": [],
   "source": []
  }
 ],
 "metadata": {
  "kernelspec": {
   "display_name": "Python 3",
   "language": "python",
   "name": "python3"
  },
  "language_info": {
   "codemirror_mode": {
    "name": "ipython",
    "version": 3
   },
   "file_extension": ".py",
   "mimetype": "text/x-python",
   "name": "python",
   "nbconvert_exporter": "python",
   "pygments_lexer": "ipython3",
   "version": "3.6.4"
  }
 },
 "nbformat": 4,
 "nbformat_minor": 2
}
