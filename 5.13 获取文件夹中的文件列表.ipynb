{
 "cells": [
  {
   "cell_type": "code",
   "execution_count": 1,
   "metadata": {},
   "outputs": [
    {
     "data": {
      "text/plain": [
       "['5.10 内存映射的二进制文件.ipynb',\n",
       " '2.16 以指定列宽格式化字符串.ipynb',\n",
       " '4.7 迭代器切片.ipynb',\n",
       " '1.18映射名称到序列元素.ipynb',\n",
       " '2.3 用Shell通配符匹配字符串.ipynb',\n",
       " '3.6 复数的数学运算.ipynb',\n",
       " '1.19转换并同时计算数据.ipynb',\n",
       " 'gbnovel.txt',\n",
       " '1.9查找两字典的相同点.ipynb',\n",
       " '2.12 审查清理文本字符串.ipynb',\n",
       " '1.1解压序列值付给多个变量.ipynb',\n",
       " '1.6 字典中的键映射多个值.ipynb',\n",
       " '4.12 不同集合上元素的迭代.ipynb',\n",
       " '4.13 创建数据处理管道.ipynb',\n",
       " '3.5 字节到大整数的打包与解包.ipynb',\n",
       " 'newsample.bin',\n",
       " 'somefile.bin',\n",
       " '.DS_Store',\n",
       " 'somefile.txt',\n",
       " '2.9 将Unicode文本标准化.ipynb',\n",
       " '2.19 实现一种递归下降分析分析器.ipynb',\n",
       " '5.3 使用其他分隔符或行终止符打印.ipynb',\n",
       " '3.15 字符串转换为日期.ipynb',\n",
       " '4.16 迭代器代替while无限循环.ipynb',\n",
       " '4.8 跳过可迭代对象的开始部分.ipynb',\n",
       " '3.1 数字的四舍五入.ipynb',\n",
       " '2.11 删除字符串中不需要的字符.ipynb',\n",
       " '4.1 手动遍历迭代器.ipynb',\n",
       " '4.15 顺序迭代合并后的排序迭代对象.ipynb',\n",
       " '1.8字典的运算.ipynb',\n",
       " '4.14 展开嵌套的序列.ipynb',\n",
       " 'Untitled.ipynb',\n",
       " '1.5实现一个优先级队列.ipynb',\n",
       " '4.10 序列上索引值迭代.ipynb',\n",
       " '3.13 计算最后一个星期五的日期.ipynb',\n",
       " 'merged_file.txt',\n",
       " '1.14排序不支持原生比较的对象.ipynb',\n",
       " '5.6 字符串的IO操作.ipynb',\n",
       " 'a.py',\n",
       " '2.2 字符串开头或结尾匹配.ipynb',\n",
       " '1.15通过某个字段将记录分组.ipynb',\n",
       " '214.txt',\n",
       " '3.9 大型数组运算.ipynb',\n",
       " '2.17 在字符串中处理html和xml.ipynb',\n",
       " '4.5 反向迭代.ipynb',\n",
       " '3.4 二八十六进制整数.ipynb',\n",
       " '1.7字典排序.ipynb',\n",
       " '5.5 文件不存在才能写入.ipynb',\n",
       " '1.16过滤序列元素.ipynb',\n",
       " '2.20 字节字符串上的字符串操作.ipynb',\n",
       " '1.12 序列中出现次数最多的元素.ipynb',\n",
       " '3.8 分数运算.ipynb',\n",
       " '2.8 多行匹配模式.ipynb',\n",
       " '2.7 最短匹配模式.ipynb',\n",
       " '4.9 排列组合的迭代.ipynb',\n",
       " '5.8 固定大小记录的文件迭代.ipynb',\n",
       " 'somefile.bz2',\n",
       " '4.6 带有外部状态的生成器函数.ipynb',\n",
       " '2.13 字符串对齐.ipynb',\n",
       " '1.3保留最后N个元素.ipynb',\n",
       " '3.14 计算当前月份的日期范围.ipynb',\n",
       " '1.17 从字典中提取子集.ipynb',\n",
       " '3.3 数字的格式化输出.ipynb',\n",
       " '5.12 测试文件是否存在.ipynb',\n",
       " 'somefile',\n",
       " '2.18 字符串令牌解析.ipynb',\n",
       " '1.20 合并多个字典或映射.ipynb',\n",
       " '2.6 字符串忽略大小写的搜索替换.ipynb',\n",
       " '2.14 合并拼接字符串.ipynb',\n",
       " '3.11 随机选择.ipynb',\n",
       " 'somefile2.txt',\n",
       " 'utf8novel.txt',\n",
       " 'jalapeño.txt',\n",
       " '2.4 字符串匹配和搜索.ipynb',\n",
       " '3.10 矩阵与线性代数.ipynb',\n",
       " 'gbtoutf.txt',\n",
       " 'somefile3.txt',\n",
       " '1.13 通过某个关键字排序一个字典列表.ipynb',\n",
       " '1.10删除序列相同元素并保存顺序.ipynb',\n",
       " '5.1 读写文本数据.ipynb',\n",
       " '5.7 读写压缩文件.ipynb',\n",
       " 'test.txt',\n",
       " '.ipynb_checkpoints',\n",
       " '4.2 代理迭代.ipynb',\n",
       " '1.2解压可迭代对象赋值给多个变量.ipynb',\n",
       " '5.11 文件路径名的操作.ipynb',\n",
       " '3.2 执行精确的浮点数运算.ipynb',\n",
       " '2.15 字符串中插入变量.ipynb',\n",
       " '4.3 使用生成器创建新的迭代模式.ipynb',\n",
       " '4.11 同时迭代多个序列.ipynb',\n",
       " '5.2 打印输出至文件中.ipynb',\n",
       " '5.9 读取二进制数据到可变缓冲区中.ipynb',\n",
       " '2.5 字符串搜索和替换.ipynb',\n",
       " '4.4 实现迭代器协议.ipynb',\n",
       " 'somefile.gz',\n",
       " '3.16 结合时区的日期操作.ipynb',\n",
       " '1.4查找最大或最小的N个元素.ipynb',\n",
       " '1.11命名切片.ipynb',\n",
       " '2.1 使用多个界定符分割字符串.ipynb',\n",
       " 'sorted_file_1.txt',\n",
       " '3.12 基本的日期和时间转换.ipynb',\n",
       " 'data.bin',\n",
       " '3.7 无穷大与NaN.ipynb',\n",
       " '5.4 读取字节数据.ipynb',\n",
       " '214_2.txt',\n",
       " '2.10 在正则式中使用Unicode.ipynb',\n",
       " 'sorted_file_2.txt',\n",
       " 'sample.bin']"
      ]
     },
     "execution_count": 1,
     "metadata": {},
     "output_type": "execute_result"
    }
   ],
   "source": [
    "import os\n",
    "names = os.listdir('.')\n",
    "names"
   ]
  },
  {
   "cell_type": "code",
   "execution_count": 2,
   "metadata": {},
   "outputs": [
    {
     "data": {
      "text/plain": [
       "['5.10 内存映射的二进制文件.ipynb',\n",
       " '2.16 以指定列宽格式化字符串.ipynb',\n",
       " '4.7 迭代器切片.ipynb',\n",
       " '1.18映射名称到序列元素.ipynb',\n",
       " '2.3 用Shell通配符匹配字符串.ipynb',\n",
       " '3.6 复数的数学运算.ipynb',\n",
       " '1.19转换并同时计算数据.ipynb',\n",
       " 'gbnovel.txt',\n",
       " '1.9查找两字典的相同点.ipynb',\n",
       " '2.12 审查清理文本字符串.ipynb',\n",
       " '1.1解压序列值付给多个变量.ipynb',\n",
       " '1.6 字典中的键映射多个值.ipynb',\n",
       " '4.12 不同集合上元素的迭代.ipynb',\n",
       " '4.13 创建数据处理管道.ipynb',\n",
       " '3.5 字节到大整数的打包与解包.ipynb',\n",
       " 'newsample.bin',\n",
       " 'somefile.bin',\n",
       " '.DS_Store',\n",
       " 'somefile.txt',\n",
       " '2.9 将Unicode文本标准化.ipynb',\n",
       " '2.19 实现一种递归下降分析分析器.ipynb',\n",
       " '5.3 使用其他分隔符或行终止符打印.ipynb',\n",
       " '3.15 字符串转换为日期.ipynb',\n",
       " '4.16 迭代器代替while无限循环.ipynb',\n",
       " '4.8 跳过可迭代对象的开始部分.ipynb',\n",
       " '3.1 数字的四舍五入.ipynb',\n",
       " '2.11 删除字符串中不需要的字符.ipynb',\n",
       " '4.1 手动遍历迭代器.ipynb',\n",
       " '4.15 顺序迭代合并后的排序迭代对象.ipynb',\n",
       " '1.8字典的运算.ipynb',\n",
       " '4.14 展开嵌套的序列.ipynb',\n",
       " 'Untitled.ipynb',\n",
       " '1.5实现一个优先级队列.ipynb',\n",
       " '4.10 序列上索引值迭代.ipynb',\n",
       " '3.13 计算最后一个星期五的日期.ipynb',\n",
       " 'merged_file.txt',\n",
       " '1.14排序不支持原生比较的对象.ipynb',\n",
       " '5.6 字符串的IO操作.ipynb',\n",
       " 'a.py',\n",
       " '2.2 字符串开头或结尾匹配.ipynb',\n",
       " '1.15通过某个字段将记录分组.ipynb',\n",
       " '214.txt',\n",
       " '3.9 大型数组运算.ipynb',\n",
       " '2.17 在字符串中处理html和xml.ipynb',\n",
       " '4.5 反向迭代.ipynb',\n",
       " '3.4 二八十六进制整数.ipynb',\n",
       " '1.7字典排序.ipynb',\n",
       " '5.5 文件不存在才能写入.ipynb',\n",
       " '1.16过滤序列元素.ipynb',\n",
       " '2.20 字节字符串上的字符串操作.ipynb',\n",
       " '1.12 序列中出现次数最多的元素.ipynb',\n",
       " '3.8 分数运算.ipynb',\n",
       " '2.8 多行匹配模式.ipynb',\n",
       " '2.7 最短匹配模式.ipynb',\n",
       " '4.9 排列组合的迭代.ipynb',\n",
       " '5.8 固定大小记录的文件迭代.ipynb',\n",
       " 'somefile.bz2',\n",
       " '4.6 带有外部状态的生成器函数.ipynb',\n",
       " '2.13 字符串对齐.ipynb',\n",
       " '1.3保留最后N个元素.ipynb',\n",
       " '3.14 计算当前月份的日期范围.ipynb',\n",
       " '1.17 从字典中提取子集.ipynb',\n",
       " '3.3 数字的格式化输出.ipynb',\n",
       " '5.12 测试文件是否存在.ipynb',\n",
       " 'somefile',\n",
       " '2.18 字符串令牌解析.ipynb',\n",
       " '1.20 合并多个字典或映射.ipynb',\n",
       " '2.6 字符串忽略大小写的搜索替换.ipynb',\n",
       " '2.14 合并拼接字符串.ipynb',\n",
       " '3.11 随机选择.ipynb',\n",
       " 'somefile2.txt',\n",
       " 'utf8novel.txt',\n",
       " 'jalapeño.txt',\n",
       " '2.4 字符串匹配和搜索.ipynb',\n",
       " '3.10 矩阵与线性代数.ipynb',\n",
       " 'gbtoutf.txt',\n",
       " 'somefile3.txt',\n",
       " '1.13 通过某个关键字排序一个字典列表.ipynb',\n",
       " '1.10删除序列相同元素并保存顺序.ipynb',\n",
       " '5.1 读写文本数据.ipynb',\n",
       " '5.7 读写压缩文件.ipynb',\n",
       " 'test.txt',\n",
       " '4.2 代理迭代.ipynb',\n",
       " '1.2解压可迭代对象赋值给多个变量.ipynb',\n",
       " '5.11 文件路径名的操作.ipynb',\n",
       " '3.2 执行精确的浮点数运算.ipynb',\n",
       " '2.15 字符串中插入变量.ipynb',\n",
       " '4.3 使用生成器创建新的迭代模式.ipynb',\n",
       " '4.11 同时迭代多个序列.ipynb',\n",
       " '5.2 打印输出至文件中.ipynb',\n",
       " '5.9 读取二进制数据到可变缓冲区中.ipynb',\n",
       " '2.5 字符串搜索和替换.ipynb',\n",
       " '4.4 实现迭代器协议.ipynb',\n",
       " 'somefile.gz',\n",
       " '3.16 结合时区的日期操作.ipynb',\n",
       " '1.4查找最大或最小的N个元素.ipynb',\n",
       " '1.11命名切片.ipynb',\n",
       " '2.1 使用多个界定符分割字符串.ipynb',\n",
       " 'sorted_file_1.txt',\n",
       " '3.12 基本的日期和时间转换.ipynb',\n",
       " 'data.bin',\n",
       " '3.7 无穷大与NaN.ipynb',\n",
       " '5.4 读取字节数据.ipynb',\n",
       " '214_2.txt',\n",
       " '2.10 在正则式中使用Unicode.ipynb',\n",
       " 'sorted_file_2.txt',\n",
       " 'sample.bin']"
      ]
     },
     "execution_count": 2,
     "metadata": {},
     "output_type": "execute_result"
    }
   ],
   "source": [
    "# Get all regular files\n",
    "names = [name for name in os.listdir('.')\n",
    "         if os.path.isfile(os.path.join('.',name))]\n",
    "names"
   ]
  },
  {
   "cell_type": "code",
   "execution_count": 4,
   "metadata": {},
   "outputs": [
    {
     "data": {
      "text/plain": [
       "['dir', '.ipynb_checkpoints']"
      ]
     },
     "execution_count": 4,
     "metadata": {},
     "output_type": "execute_result"
    }
   ],
   "source": [
    "# Get all dirs\n",
    "dirnames = [name for name in os.listdir('.')\n",
    "if os.path.isdir(os.path.join('.', name))]\n",
    "dirnames"
   ]
  },
  {
   "cell_type": "code",
   "execution_count": 5,
   "metadata": {},
   "outputs": [
    {
     "data": {
      "text/plain": [
       "['a.py']"
      ]
     },
     "execution_count": 5,
     "metadata": {},
     "output_type": "execute_result"
    }
   ],
   "source": [
    "pyfiles = [name for name in os.listdir('.')\n",
    "if name.endswith('.py')]\n",
    "pyfiles"
   ]
  },
  {
   "cell_type": "code",
   "execution_count": 10,
   "metadata": {},
   "outputs": [
    {
     "data": {
      "text/plain": [
       "['./a.py']"
      ]
     },
     "execution_count": 10,
     "metadata": {},
     "output_type": "execute_result"
    }
   ],
   "source": [
    "import glob\n",
    "pyfiles = glob.glob('./*.py')\n",
    "\n",
    "pyfiles"
   ]
  },
  {
   "cell_type": "code",
   "execution_count": 9,
   "metadata": {},
   "outputs": [
    {
     "data": {
      "text/plain": [
       "['a.py']"
      ]
     },
     "execution_count": 9,
     "metadata": {},
     "output_type": "execute_result"
    }
   ],
   "source": [
    "from fnmatch import fnmatch\n",
    "pyfiles = [name for name in os.listdir('.')\n",
    "    if fnmatch(name, '*.py')]\n",
    "\n",
    "pyfiles"
   ]
  },
  {
   "cell_type": "code",
   "execution_count": null,
   "metadata": {},
   "outputs": [],
   "source": []
  }
 ],
 "metadata": {
  "kernelspec": {
   "display_name": "Python 3",
   "language": "python",
   "name": "python3"
  },
  "language_info": {
   "codemirror_mode": {
    "name": "ipython",
    "version": 3
   },
   "file_extension": ".py",
   "mimetype": "text/x-python",
   "name": "python",
   "nbconvert_exporter": "python",
   "pygments_lexer": "ipython3",
   "version": "3.6.4"
  }
 },
 "nbformat": 4,
 "nbformat_minor": 2
}
