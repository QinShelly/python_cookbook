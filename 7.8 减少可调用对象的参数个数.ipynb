{
 "cells": [
  {
   "cell_type": "code",
   "execution_count": 1,
   "metadata": {},
   "outputs": [
    {
     "name": "stdout",
     "output_type": "stream",
     "text": [
      "1 2 3 4\n"
     ]
    }
   ],
   "source": [
    "def spam(a, b, c, d):\n",
    "    print(a, b, c, d)\n",
    "    \n",
    "from functools import partial\n",
    "s1 = partial(spam, 1) # a = 1\n",
    "s1(2, 3, 4)"
   ]
  },
  {
   "cell_type": "code",
   "execution_count": 2,
   "metadata": {},
   "outputs": [
    {
     "name": "stdout",
     "output_type": "stream",
     "text": [
      "1 4 5 6\n"
     ]
    }
   ],
   "source": [
    "s1(4, 5, 6)"
   ]
  },
  {
   "cell_type": "code",
   "execution_count": 3,
   "metadata": {},
   "outputs": [],
   "source": [
    "s2 = partial(spam, d=42) # d = 42"
   ]
  },
  {
   "cell_type": "code",
   "execution_count": 4,
   "metadata": {},
   "outputs": [
    {
     "name": "stdout",
     "output_type": "stream",
     "text": [
      "1 2 3 42\n"
     ]
    }
   ],
   "source": [
    "s2(1, 2, 3)"
   ]
  },
  {
   "cell_type": "code",
   "execution_count": 5,
   "metadata": {},
   "outputs": [
    {
     "name": "stdout",
     "output_type": "stream",
     "text": [
      "1 2 3 42\n"
     ]
    }
   ],
   "source": [
    "s3 = partial(spam, 1, 2, d=42) # a = 1, b = 2, d = 42\n",
    "s3(3)"
   ]
  },
  {
   "cell_type": "code",
   "execution_count": 6,
   "metadata": {},
   "outputs": [
    {
     "data": {
      "text/plain": [
       "[(3, 4), (1, 2), (5, 6), (7, 8)]"
      ]
     },
     "execution_count": 6,
     "metadata": {},
     "output_type": "execute_result"
    }
   ],
   "source": [
    "points = [ (1, 2), (3, 4), (5, 6), (7, 8) ]\n",
    "import math\n",
    "def distance(p1, p2):\n",
    "    x1, y1 = p1\n",
    "    x2, y2 = p2\n",
    "    return math.hypot(x2 - x1, y2 - y1)\n",
    "\n",
    "pt = (4, 3)\n",
    "points.sort(key=partial(distance,pt))\n",
    "points\n"
   ]
  },
  {
   "cell_type": "code",
   "execution_count": 7,
   "metadata": {},
   "outputs": [
    {
     "name": "stderr",
     "output_type": "stream",
     "text": [
      "DEBUG:test:Got: 7\n"
     ]
    }
   ],
   "source": [
    "def output_result(result, log=None):\n",
    "    if log is not None:\n",
    "        log.debug('Got: %r', result)\n",
    "\n",
    "# A sample function\n",
    "def add(x, y):\n",
    "    return x + y\n",
    "\n",
    "if __name__ == '__main__':\n",
    "    import logging\n",
    "    from multiprocessing import Pool\n",
    "    from functools import partial\n",
    "    logging.basicConfig(level=logging.DEBUG)\n",
    "    log = logging.getLogger('test')\n",
    "    p = Pool()\n",
    "    p.apply_async(add, (3, 4), callback=partial(output_result, log=log))\n",
    "    p.close()\n",
    "    p.join()"
   ]
  },
  {
   "cell_type": "code",
   "execution_count": null,
   "metadata": {},
   "outputs": [],
   "source": [
    "from socketserver import StreamRequestHandler, TCPServer\n",
    "\n",
    "class EchoHandler(StreamRequestHandler):\n",
    "    def handle(self):\n",
    "        for line in self.rfile:\n",
    "            self.wfile.write(b'GOT:' + line)\n",
    "            \n",
    "serv = TCPServer(('', 15000), EchoHandler)\n",
    "serv.serve_forever()"
   ]
  }
 ],
 "metadata": {
  "kernelspec": {
   "display_name": "Python 3",
   "language": "python",
   "name": "python3"
  },
  "language_info": {
   "codemirror_mode": {
    "name": "ipython",
    "version": 3
   },
   "file_extension": ".py",
   "mimetype": "text/x-python",
   "name": "python",
   "nbconvert_exporter": "python",
   "pygments_lexer": "ipython3",
   "version": "3.6.4"
  }
 },
 "nbformat": 4,
 "nbformat_minor": 2
}
