{
 "cells": [
  {
   "cell_type": "code",
   "execution_count": 1,
   "metadata": {},
   "outputs": [
    {
     "data": {
      "text/plain": [
       "55"
      ]
     },
     "execution_count": 1,
     "metadata": {},
     "output_type": "execute_result"
    }
   ],
   "source": [
    "nums = [1,2,3,4,5]\n",
    "s = sum(x * x for x in nums)\n",
    "s"
   ]
  },
  {
   "cell_type": "code",
   "execution_count": 7,
   "metadata": {},
   "outputs": [
    {
     "name": "stdout",
     "output_type": "stream",
     "text": [
      "There be python!\n"
     ]
    }
   ],
   "source": [
    "# Determine if any .py files exist in a dictionary\n",
    "import os\n",
    "files = os.listdir('/Users/kenyao/jupyterNotebook')\n",
    "if any(name.endswith('.py') for name in files):\n",
    "    print('There be python!')\n",
    "else:\n",
    "    print('Sorry, no python.')"
   ]
  },
  {
   "cell_type": "code",
   "execution_count": 3,
   "metadata": {},
   "outputs": [
    {
     "name": "stdout",
     "output_type": "stream",
     "text": [
      "ACME,50,123.45\n"
     ]
    }
   ],
   "source": [
    "# Output a tuple as CSV\n",
    "s = ('ACME',50, 123.45)\n",
    "print(','.join(str(x) for x in s))"
   ]
  },
  {
   "cell_type": "code",
   "execution_count": 4,
   "metadata": {},
   "outputs": [
    {
     "data": {
      "text/plain": [
       "20"
      ]
     },
     "execution_count": 4,
     "metadata": {},
     "output_type": "execute_result"
    }
   ],
   "source": [
    "# Data reduction across fields of a data structure\n",
    "portfolio = [\n",
    "    {'name':'GOOG', 'shares': 50},\n",
    "    {'name':'YHOO', 'shares': 75},\n",
    "    {'name':'AOL', 'shares': 20},\n",
    "    {'name':'SCOX', 'shares': 65}\n",
    "]\n",
    "min_shares = min(s['shares'] for s in portfolio)\n",
    "min_shares"
   ]
  },
  {
   "cell_type": "code",
   "execution_count": 5,
   "metadata": {},
   "outputs": [
    {
     "data": {
      "text/plain": [
       "{'name': 'AOL', 'shares': 20}"
      ]
     },
     "execution_count": 5,
     "metadata": {},
     "output_type": "execute_result"
    }
   ],
   "source": [
    "min_shares = min(portfolio, key = lambda s:s['shares'])\n",
    "min_shares"
   ]
  },
  {
   "cell_type": "code",
   "execution_count": null,
   "metadata": {},
   "outputs": [],
   "source": []
  }
 ],
 "metadata": {
  "kernelspec": {
   "display_name": "Python 3",
   "language": "python",
   "name": "python3"
  },
  "language_info": {
   "codemirror_mode": {
    "name": "ipython",
    "version": 3
   },
   "file_extension": ".py",
   "mimetype": "text/x-python",
   "name": "python",
   "nbconvert_exporter": "python",
   "pygments_lexer": "ipython3",
   "version": "3.6.4"
  }
 },
 "nbformat": 4,
 "nbformat_minor": 2
}
