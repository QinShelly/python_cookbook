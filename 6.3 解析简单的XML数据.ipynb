{
 "cells": [
  {
   "cell_type": "code",
   "execution_count": 2,
   "metadata": {},
   "outputs": [
    {
     "name": "stdout",
     "output_type": "stream",
     "text": [
      "NumFOCUS: Xarray joins NumFOCUS Sponsored Projects\n",
      "Wed, 19 Sep 2018 19:35:24 +0000\n",
      "https://numfocus.org/blog/xarray-joins-numfocus-sponsored-projects\n",
      "\n",
      "Stack Abuse: NumPy Tutorial: A Simple Example-Based Guide\n",
      "Wed, 19 Sep 2018 18:30:56 +0000\n",
      "https://stackabuse.com/numpy-tutorial-a-simple-example-based-guide/\n",
      "\n",
      "Real Python: Absolute vs Relative Imports in Python\n",
      "Wed, 19 Sep 2018 14:00:00 +0000\n",
      "https://realpython.com/absolute-vs-relative-python-imports/\n",
      "\n",
      "Davy Wybiral: Internet of Things Development Board: FireBeetle ESP32\n",
      "Wed, 19 Sep 2018 08:11:52 +0000\n",
      "http://davywybiral.blogspot.com/2018/09/internet-of-things-development-board.html\n",
      "\n",
      "Thibauld Nion: Long overdue release of Yapsy\n",
      "Tue, 18 Sep 2018 21:27:46 +0000\n",
      "http://www.tibonihoo.net/blog/en/2018/09/une-nouvelle-version-de-yapsy-qui-sest-faite-attendre/\n",
      "\n",
      "Caktus Consulting Group: Better Python Dependency Management with pip-tools\n",
      "Tue, 18 Sep 2018 14:37:29 +0000\n",
      "https://www.caktusgroup.com/blog/2018/09/18/python-dependency-management-pip-tools/\n",
      "\n",
      "Continuum Analytics Blog: Anaconda and Kx Systems Partner to Deliver kdb+ Database System and Related Machine Learning Libraries\n",
      "Tue, 18 Sep 2018 14:34:55 +0000\n",
      "https://www.anaconda.com/blog/company-blog/anaconda-and-kx-systems-partner-to-deliver-kdb-database-system-and-related-machine-learning-libraries/\n",
      "\n",
      "Mike Driscoll: Jupyter Notebook 101: Writing Update\n",
      "Tue, 18 Sep 2018 12:30:33 +0000\n",
      "http://www.blog.pythonlibrary.org/2018/09/18/jupyter-notebook-101-writing-update/\n",
      "\n",
      "Codementor: Connect Alibaba Cloud to AWS via VPN Gateway\n",
      "Tue, 18 Sep 2018 07:23:55 +0000\n",
      "https://www.codementor.io/alibabacloud/connect-alibaba-cloud-to-aws-via-vpn-gateway-nhq1i2i4a\n",
      "\n",
      "Programiz: Python Variables, Constants and Literals\n",
      "Tue, 18 Sep 2018 06:52:15 +0000\n",
      "https://www.programiz.com/python-programming/variables-constants-literals\n",
      "\n",
      "Reuven Lerner: Last chance: Weekly Python Exercise registration closes soon\n",
      "Mon, 17 Sep 2018 23:25:29 +0000\n",
      "https://blog.lerner.co.il/last-chance-weekly-python-exercise-registration-closes-soon/\n",
      "\n",
      "PyBites: Code Challenge 51 - Analyse NBA Data with SQL/sqlite3\n",
      "Mon, 17 Sep 2018 21:13:00 +0000\n",
      "https://pybit.es/codechallenge51.html\n",
      "\n",
      "Stack Abuse: How to Format Dates in Python\n",
      "Mon, 17 Sep 2018 18:34:48 +0000\n",
      "https://stackabuse.com/how-to-format-dates-in-python/\n",
      "\n",
      "Real Python: Top 10 Must-Watch PyCon Talks\n",
      "Mon, 17 Sep 2018 14:00:00 +0000\n",
      "https://realpython.com/must-watch-pycon-talks/\n",
      "\n",
      "Python Anywhere: Force HTTPS on your website\n",
      "Mon, 17 Sep 2018 13:45:45 +0000\n",
      "https://blog.pythonanywhere.com/167/\n",
      "\n",
      "Codementor: Variable assignment in python: behind the scenes\n",
      "Mon, 17 Sep 2018 10:49:21 +0000\n",
      "https://www.codementor.io/himank/variable-assignment-in-python-behind-the-scenes-ngrbsispp\n",
      "\n",
      "Mike Driscoll: PyDev of the Week: Younggun Kim\n",
      "Mon, 17 Sep 2018 05:05:33 +0000\n",
      "http://www.blog.pythonlibrary.org/2018/09/17/pydev-of-the-week-younggun-kim/\n",
      "\n",
      "Podcast.__init__: The Business Of Technical Authoring With William Vincent\n",
      "Mon, 17 Sep 2018 01:49:08 +0000\n",
      "https://www.podcastinit.com/technical-authoring-with-william-vincent-episode-179/\n",
      "\n",
      "Matthew Rocklin: Dask Development Log\n",
      "Mon, 17 Sep 2018 00:00:00 +0000\n",
      "https://matthewrocklin.com/blog//work/2018/09/17/dask-dev\n",
      "\n",
      "Ga&#235;l Varoquaux: A foundation for scikit-learn at Inria\n",
      "Sun, 16 Sep 2018 22:00:00 +0000\n",
      "http://gael-varoquaux.info/programming/a-foundation-for-scikit-learn-at-inria.html\n",
      "\n",
      "Reuven Lerner: Weekly Python Exercise: Registration closes in two days\n",
      "Sun, 16 Sep 2018 19:00:21 +0000\n",
      "https://blog.lerner.co.il/weekly-python-exercise-registration-closes-in-two-days/\n",
      "\n",
      "Bhishan Bhandari: Python, Boto and AWS EC2\n",
      "Sun, 16 Sep 2018 18:57:15 +0000\n",
      "http://feedproxy.google.com/~r/TheTaraNights/~3/BJb_D8HacA8/\n",
      "\n",
      "PyBites: PyBites Twitter Digest - Issue 29, 2018\n",
      "Sun, 16 Sep 2018 13:50:00 +0000\n",
      "https://pybit.es/twitter_digest_201829.html\n",
      "\n",
      "Codementor: Option Pricing With Monte Carlo &amp; Celery\n",
      "Sun, 16 Sep 2018 09:58:35 +0000\n",
      "https://www.codementor.io/bjoernstiel/option-pricing-with-monte-carlo-celery-nfl9mlqy0\n",
      "\n",
      "Weekly Python StackOverflow Report: (cxliii) stackoverflow python report\n",
      "Sat, 15 Sep 2018 20:02:00 +0000\n",
      "http://python-weekly.blogspot.com/2018/09/cxliii-stackoverflow-python-report.html\n",
      "\n"
     ]
    }
   ],
   "source": [
    "from urllib.request import urlopen\n",
    "from xml.etree.ElementTree import parse\n",
    "\n",
    "# Download the RSS feed and parse it\n",
    "u = urlopen('http://planet.python.org/rss20.xml')\n",
    "doc = parse(u)\n",
    "\n",
    "# Extract and output tags of interest\n",
    "for item in doc.iterfind('channel/item'):\n",
    "    title = item.findtext('title')    \n",
    "    date = item.findtext('pubDate')\n",
    "    link = item.findtext('link')\n",
    "    \n",
    "    print(title)\n",
    "    print(date)\n",
    "    print(link)\n",
    "    print()"
   ]
  },
  {
   "cell_type": "code",
   "execution_count": 3,
   "metadata": {},
   "outputs": [
    {
     "data": {
      "text/plain": [
       "<xml.etree.ElementTree.ElementTree at 0x10fe49320>"
      ]
     },
     "execution_count": 3,
     "metadata": {},
     "output_type": "execute_result"
    }
   ],
   "source": [
    "doc"
   ]
  },
  {
   "cell_type": "code",
   "execution_count": 4,
   "metadata": {},
   "outputs": [
    {
     "data": {
      "text/plain": [
       "<Element 'title' at 0x10fe23ae8>"
      ]
     },
     "execution_count": 4,
     "metadata": {},
     "output_type": "execute_result"
    }
   ],
   "source": [
    "e = doc.find('channel/title')\n",
    "e"
   ]
  },
  {
   "cell_type": "code",
   "execution_count": 5,
   "metadata": {},
   "outputs": [
    {
     "data": {
      "text/plain": [
       "'title'"
      ]
     },
     "execution_count": 5,
     "metadata": {},
     "output_type": "execute_result"
    }
   ],
   "source": [
    "e.tag"
   ]
  },
  {
   "cell_type": "code",
   "execution_count": 6,
   "metadata": {},
   "outputs": [
    {
     "data": {
      "text/plain": [
       "'Planet Python'"
      ]
     },
     "execution_count": 6,
     "metadata": {},
     "output_type": "execute_result"
    }
   ],
   "source": [
    "e.text"
   ]
  },
  {
   "cell_type": "code",
   "execution_count": 7,
   "metadata": {},
   "outputs": [],
   "source": [
    "e.get('some_attribute')"
   ]
  },
  {
   "cell_type": "code",
   "execution_count": null,
   "metadata": {},
   "outputs": [],
   "source": []
  }
 ],
 "metadata": {
  "kernelspec": {
   "display_name": "Python 3",
   "language": "python",
   "name": "python3"
  },
  "language_info": {
   "codemirror_mode": {
    "name": "ipython",
    "version": 3
   },
   "file_extension": ".py",
   "mimetype": "text/x-python",
   "name": "python",
   "nbconvert_exporter": "python",
   "pygments_lexer": "ipython3",
   "version": "3.6.4"
  }
 },
 "nbformat": 4,
 "nbformat_minor": 2
}
