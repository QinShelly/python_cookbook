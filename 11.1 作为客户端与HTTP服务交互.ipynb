{
 "cells": [
  {
   "cell_type": "code",
   "execution_count": 1,
   "metadata": {},
   "outputs": [
    {
     "data": {
      "text/plain": [
       "b'{\\n  \"args\": {\\n    \"name1\": \"value1\", \\n    \"name2\": \"value2\"\\n  }, \\n  \"headers\": {\\n    \"Accept-Encoding\": \"identity\", \\n    \"Connection\": \"close\", \\n    \"Host\": \"httpbin.org\", \\n    \"User-Agent\": \"Python-urllib/3.6\"\\n  }, \\n  \"origin\": \"42.120.75.152\", \\n  \"url\": \"http://httpbin.org/get?name1=value1&name2=value2\"\\n}\\n'"
      ]
     },
     "execution_count": 1,
     "metadata": {},
     "output_type": "execute_result"
    }
   ],
   "source": [
    "from urllib import request, parse\n",
    "# Base URL being accessed\n",
    "url = 'http://httpbin.org/get'\n",
    "# Dictionary of query parameters (if any)\n",
    "parms = {\n",
    "'name1' : 'value1',\n",
    "'name2' : 'value2'\n",
    "}\n",
    "# Encode the query string\n",
    "querystring = parse.urlencode(parms)\n",
    "# Make a GET request and read the response\n",
    "u = request.urlopen(url+'?' + querystring)\n",
    "resp = u.read()\n",
    "resp"
   ]
  },
  {
   "cell_type": "code",
   "execution_count": 4,
   "metadata": {},
   "outputs": [
    {
     "data": {
      "text/plain": [
       "b'{\\n  \"args\": {}, \\n  \"data\": \"\", \\n  \"files\": {}, \\n  \"form\": {\\n    \"name1\": \"value1\", \\n    \"name2\": \"value2\"\\n  }, \\n  \"headers\": {\\n    \"Accept-Encoding\": \"identity\", \\n    \"Connection\": \"close\", \\n    \"Content-Length\": \"25\", \\n    \"Content-Type\": \"application/x-www-form-urlencoded\", \\n    \"Host\": \"httpbin.org\", \\n    \"User-Agent\": \"Python-urllib/3.6\"\\n  }, \\n  \"json\": null, \\n  \"origin\": \"42.120.75.140\", \\n  \"url\": \"http://httpbin.org/post\"\\n}\\n'"
      ]
     },
     "execution_count": 4,
     "metadata": {},
     "output_type": "execute_result"
    }
   ],
   "source": [
    "from urllib import request, parse\n",
    "# Base URL being accessed\n",
    "url = 'http://httpbin.org/post'\n",
    "# Dictionary of query parameters (if any)\n",
    "parms = {\n",
    "'name1' : 'value1',\n",
    "'name2' : 'value2'\n",
    "}\n",
    "# Encode the query string\n",
    "querystring = parse.urlencode(parms)\n",
    "# Make a POST request and read the response\n",
    "u = request.urlopen(url, querystring.encode('ascii'))\n",
    "resp = u.read()\n",
    "resp"
   ]
  },
  {
   "cell_type": "code",
   "execution_count": 5,
   "metadata": {},
   "outputs": [
    {
     "data": {
      "text/plain": [
       "'{\\n  \"args\": {}, \\n  \"data\": \"\", \\n  \"files\": {}, \\n  \"form\": {\\n    \"name1\": \"value1\", \\n    \"name2\": \"value2\"\\n  }, \\n  \"headers\": {\\n    \"Accept\": \"*/*\", \\n    \"Accept-Encoding\": \"gzip, deflate\", \\n    \"Connection\": \"close\", \\n    \"Content-Length\": \"25\", \\n    \"Content-Type\": \"application/x-www-form-urlencoded\", \\n    \"Host\": \"httpbin.org\", \\n    \"Spam\": \"Eggs\", \\n    \"User-Agent\": \"none/ofyourbusiness\"\\n  }, \\n  \"json\": null, \\n  \"origin\": \"42.120.75.140\", \\n  \"url\": \"http://httpbin.org/post\"\\n}\\n'"
      ]
     },
     "execution_count": 5,
     "metadata": {},
     "output_type": "execute_result"
    }
   ],
   "source": [
    "import requests\n",
    "# Base URL being accessed\n",
    "url = 'http://httpbin.org/post'\n",
    "# Dictionary of query parameters (if any)\n",
    "parms = {\n",
    "'name1' : 'value1',\n",
    "    'name2' : 'value2'\n",
    "}\n",
    "# Extra headers\n",
    "headers = {\n",
    "'User-agent' : 'none/ofyourbusiness',\n",
    "'Spam' : 'Eggs'\n",
    "}\n",
    "resp = requests.post(url, data=parms, headers=headers)\n",
    "# Decoded text returned by the request\n",
    "text = resp.text\n",
    "text"
   ]
  },
  {
   "cell_type": "code",
   "execution_count": 13,
   "metadata": {},
   "outputs": [
    {
     "data": {
      "text/plain": [
       "'text/html; charset=utf-8'"
      ]
     },
     "execution_count": 13,
     "metadata": {},
     "output_type": "execute_result"
    }
   ],
   "source": [
    "import requests\n",
    "resp = requests.head('https://www.python.org/')\n",
    "status = resp.status_code\n",
    "content_type = resp.headers['content-type']\n",
    "content_length = resp.headers['content-length']\n",
    "content_type"
   ]
  },
  {
   "cell_type": "code",
   "execution_count": null,
   "metadata": {},
   "outputs": [],
   "source": [
    "import requests\n",
    "resp = requests.get('http://pypi.python.org/pypi?:action=login',\n",
    "auth=('user','password'))\n"
   ]
  },
  {
   "cell_type": "code",
   "execution_count": null,
   "metadata": {},
   "outputs": [],
   "source": [
    "\n",
    "import requests\n",
    "# First request\n",
    "resp1 = requests.get(url)\n",
    "...\n",
    "# Second requests with cookies received on first requests\n",
    "resp2 = requests.get(url, cookies=resp1.cookies)"
   ]
  }
 ],
 "metadata": {
  "kernelspec": {
   "display_name": "Python 3",
   "language": "python",
   "name": "python3"
  },
  "language_info": {
   "codemirror_mode": {
    "name": "ipython",
    "version": 3
   },
   "file_extension": ".py",
   "mimetype": "text/x-python",
   "name": "python",
   "nbconvert_exporter": "python",
   "pygments_lexer": "ipython3",
   "version": "3.6.4"
  }
 },
 "nbformat": 4,
 "nbformat_minor": 2
}
