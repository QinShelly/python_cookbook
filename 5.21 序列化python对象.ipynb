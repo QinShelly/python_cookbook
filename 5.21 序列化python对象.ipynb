{
 "cells": [
  {
   "cell_type": "code",
   "execution_count": 10,
   "metadata": {},
   "outputs": [],
   "source": [
    "import pickle\n",
    "\n",
    "data = [(1,2),(2,3)]\n",
    "#data = 1"
   ]
  },
  {
   "cell_type": "code",
   "execution_count": 11,
   "metadata": {},
   "outputs": [
    {
     "data": {
      "text/plain": [
       "[(1, 2), (2, 3)]"
      ]
     },
     "execution_count": 11,
     "metadata": {},
     "output_type": "execute_result"
    }
   ],
   "source": [
    "with open('somefile.pickle','wb') as f:\n",
    "    pickle.dump(data, f)\n",
    "\n",
    "with open ('somefile.pickle','rb') as f:\n",
    "    data = pickle.load(f)\n",
    "    \n",
    "data"
   ]
  },
  {
   "cell_type": "code",
   "execution_count": 12,
   "metadata": {},
   "outputs": [
    {
     "name": "stdout",
     "output_type": "stream",
     "text": [
      "b'\\x80\\x03]q\\x00(K\\x01K\\x02\\x86q\\x01K\\x02K\\x03\\x86q\\x02e.'\n"
     ]
    }
   ],
   "source": [
    "with open ('somefile.pickle','rb') as f:\n",
    "    print(f.read())"
   ]
  },
  {
   "cell_type": "code",
   "execution_count": 13,
   "metadata": {},
   "outputs": [],
   "source": [
    "s = pickle.dumps(data)"
   ]
  },
  {
   "cell_type": "code",
   "execution_count": 14,
   "metadata": {},
   "outputs": [
    {
     "data": {
      "text/plain": [
       "b'\\x80\\x03]q\\x00(K\\x01K\\x02\\x86q\\x01K\\x02K\\x03\\x86q\\x02e.'"
      ]
     },
     "execution_count": 14,
     "metadata": {},
     "output_type": "execute_result"
    }
   ],
   "source": [
    "s"
   ]
  },
  {
   "cell_type": "code",
   "execution_count": 15,
   "metadata": {},
   "outputs": [],
   "source": [
    "data = pickle.loads(s)"
   ]
  },
  {
   "cell_type": "code",
   "execution_count": 16,
   "metadata": {},
   "outputs": [
    {
     "data": {
      "text/plain": [
       "[(1, 2), (2, 3)]"
      ]
     },
     "execution_count": 16,
     "metadata": {},
     "output_type": "execute_result"
    }
   ],
   "source": [
    "data"
   ]
  },
  {
   "cell_type": "code",
   "execution_count": 18,
   "metadata": {},
   "outputs": [
    {
     "data": {
      "text/plain": [
       "[1, 2, 3, 4]"
      ]
     },
     "execution_count": 18,
     "metadata": {},
     "output_type": "execute_result"
    }
   ],
   "source": [
    "f = open('somedata.pickle','wb')\n",
    "pickle.dump([1,2,3,4], f)\n",
    "pickle.dump('hello', f)\n",
    "pickle.dump({'Apple','Pear','Banana'},f)\n",
    "f.close()\n",
    "f = open('somedata.pickle', 'rb')\n",
    "pickle.load(f)"
   ]
  },
  {
   "cell_type": "code",
   "execution_count": 19,
   "metadata": {},
   "outputs": [
    {
     "data": {
      "text/plain": [
       "'hello'"
      ]
     },
     "execution_count": 19,
     "metadata": {},
     "output_type": "execute_result"
    }
   ],
   "source": [
    "pickle.load(f)"
   ]
  },
  {
   "cell_type": "code",
   "execution_count": 20,
   "metadata": {},
   "outputs": [
    {
     "data": {
      "text/plain": [
       "{'Apple', 'Banana', 'Pear'}"
      ]
     },
     "execution_count": 20,
     "metadata": {},
     "output_type": "execute_result"
    }
   ],
   "source": [
    "pickle.load(f)"
   ]
  },
  {
   "cell_type": "code",
   "execution_count": 22,
   "metadata": {},
   "outputs": [
    {
     "data": {
      "text/plain": [
       "b'\\x80\\x03cmath\\ncos\\nq\\x00.'"
      ]
     },
     "execution_count": 22,
     "metadata": {},
     "output_type": "execute_result"
    }
   ],
   "source": [
    "import math\n",
    "pickle.dumps(math.cos)"
   ]
  },
  {
   "cell_type": "code",
   "execution_count": 28,
   "metadata": {},
   "outputs": [],
   "source": [
    "import time\n",
    "import threading\n",
    "\n",
    "class Countdown:\n",
    "    def __init__(self,n):\n",
    "        self.n = n\n",
    "        self.thr = threading.Thread(target=self.run)\n",
    "        self.thr.daemon = True\n",
    "        self.thr.start()\n",
    "    \n",
    "    def run(self):\n",
    "        while self.n > 0:\n",
    "            print('T-minus',self.n)\n",
    "            self.n -= 1\n",
    "            time.sleep(5)\n",
    "\n",
    "    def __getstate__(self):\n",
    "        return self.n\n",
    "\n",
    "    def __setstate__(self,n):\n",
    "        self.__init__(n)"
   ]
  },
  {
   "cell_type": "code",
   "execution_count": 29,
   "metadata": {},
   "outputs": [
    {
     "name": "stdout",
     "output_type": "stream",
     "text": [
      "T-minus 30\n",
      "T-minus 29\n",
      "T-minus 28\n",
      "T-minus 27\n",
      "T-minus 26\n",
      "T-minus 25\n",
      "T-minus 24\n",
      "T-minus 23\n",
      "T-minus 22\n",
      "T-minus 21\n",
      "T-minus 20\n",
      "T-minus 19\n",
      "T-minus 18\n",
      "T-minus 17\n",
      "T-minus 16\n",
      "T-minus 15\n",
      "T-minus 14\n",
      "T-minus 13\n",
      "T-minus 12\n",
      "T-minus 11\n"
     ]
    }
   ],
   "source": [
    "c = Countdown(30)"
   ]
  },
  {
   "cell_type": "code",
   "execution_count": 30,
   "metadata": {},
   "outputs": [
    {
     "name": "stdout",
     "output_type": "stream",
     "text": [
      "T-minus 10\n"
     ]
    }
   ],
   "source": [
    "# After a few moments\n",
    "f = open('cstate.p', 'wb')\n",
    "import pickle\n",
    "pickle.dump(c, f)\n",
    "f.close()"
   ]
  },
  {
   "cell_type": "code",
   "execution_count": 31,
   "metadata": {},
   "outputs": [
    {
     "name": "stdout",
     "output_type": "stream",
     "text": [
      "T-minus 10\n"
     ]
    },
    {
     "data": {
      "text/plain": [
       "<__main__.Countdown at 0x109669f28>"
      ]
     },
     "execution_count": 31,
     "metadata": {},
     "output_type": "execute_result"
    },
    {
     "name": "stdout",
     "output_type": "stream",
     "text": [
      "T-minus 1\n",
      "T-minus 9\n",
      "T-minus 8\n",
      "T-minus 7\n"
     ]
    }
   ],
   "source": [
    "f = open('cstate.p', 'rb')\n",
    "pickle.load(f)"
   ]
  },
  {
   "cell_type": "code",
   "execution_count": null,
   "metadata": {},
   "outputs": [],
   "source": []
  }
 ],
 "metadata": {
  "kernelspec": {
   "display_name": "Python 3",
   "language": "python",
   "name": "python3"
  },
  "language_info": {
   "codemirror_mode": {
    "name": "ipython",
    "version": 3
   },
   "file_extension": ".py",
   "mimetype": "text/x-python",
   "name": "python",
   "nbconvert_exporter": "python",
   "pygments_lexer": "ipython3",
   "version": "3.6.4"
  }
 },
 "nbformat": 4,
 "nbformat_minor": 2
}
