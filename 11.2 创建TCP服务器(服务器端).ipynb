{
 "cells": [
  {
   "cell_type": "code",
   "execution_count": null,
   "metadata": {},
   "outputs": [
    {
     "name": "stdout",
     "output_type": "stream",
     "text": [
      "Got connection from ('127.0.0.1', 62541)\n"
     ]
    }
   ],
   "source": [
    "from socketserver import BaseRequestHandler, TCPServer\n",
    "class EchoHandler(BaseRequestHandler):\n",
    "    def handle(self):\n",
    "        print('Got connection from', self.client_address)\n",
    "        while True:\n",
    "            msg = self.request.recv(8192)\n",
    "            if not msg:\n",
    "                break\n",
    "            self.request.send(msg)\n",
    "            \n",
    "if __name__ == '__main__':\n",
    "    serv = TCPServer(('', 20000), EchoHandler)\n",
    "    serv.serve_forever()"
   ]
  },
  {
   "cell_type": "code",
   "execution_count": null,
   "metadata": {},
   "outputs": [],
   "source": []
  }
 ],
 "metadata": {
  "kernelspec": {
   "display_name": "Python 3",
   "language": "python",
   "name": "python3"
  },
  "language_info": {
   "codemirror_mode": {
    "name": "ipython",
    "version": 3
   },
   "file_extension": ".py",
   "mimetype": "text/x-python",
   "name": "python",
   "nbconvert_exporter": "python",
   "pygments_lexer": "ipython3",
   "version": "3.6.4"
  }
 },
 "nbformat": 4,
 "nbformat_minor": 2
}
