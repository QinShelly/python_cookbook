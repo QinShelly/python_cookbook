{
 "cells": [
  {
   "cell_type": "code",
   "execution_count": 5,
   "metadata": {},
   "outputs": [
    {
     "name": "stdout",
     "output_type": "stream",
     "text": [
      "adf adfas d python\n",
      "\n",
      "daf adfasasdf python \n"
     ]
    }
   ],
   "source": [
    "import os\n",
    "import fnmatch\n",
    "import gzip\n",
    "import bz2\n",
    "import re\n",
    "\n",
    "def gen_find(filepat, top):\n",
    "    '''\n",
    "    Find all filenames in a directory tree that match a shell wildcard pattern\n",
    "    '''\n",
    "    for path, firlist, filelist in os.walk(top):\n",
    "        for name in fnmatch.filter(filelist,filepat):\n",
    "            yield os.path.join(path, name)\n",
    "            \n",
    "def gen_opener(filenames):\n",
    "    '''\n",
    "    Open a sequence of filenames one at a time producing a file object.\n",
    "    The file is closed immediately when proceeding to the next iteration.\n",
    "    '''\n",
    "    for filename in filenames:\n",
    "        if filename.endswith('.gz'):\n",
    "            f = gzip.open(filename, 'rt')\n",
    "        elif filename.endswith('.bz2'):\n",
    "            f = bz2.open(filename, 'rt')\n",
    "        else:\n",
    "            f = open(filename, 'rt')\n",
    "        yield f\n",
    "        f.close()\n",
    "        \n",
    "def gen_concatenate(iterators):\n",
    "    '''\n",
    "    Chain a sequence of iterators together into a single sequence.\n",
    "    '''\n",
    "    for it in iterators:\n",
    "        yield from it\n",
    "        \n",
    "def gen_grep(pattern, lines):\n",
    "    '''\n",
    "    Look for a regex pattern in a sequence of lines\n",
    "    '''\n",
    "    pat = re.compile(pattern)\n",
    "    for line in lines:\n",
    "        if pat.search(line):\n",
    "            yield line\n",
    "            \n",
    "lognames = gen_find('*.txt', '.')\n",
    "files = gen_opener(lognames)\n",
    "lines = gen_concatenate(files)\n",
    "pylines = gen_grep('(?i)python', lines)\n",
    "for line in pylines:\n",
    "    print(line)"
   ]
  },
  {
   "cell_type": "code",
   "execution_count": null,
   "metadata": {},
   "outputs": [],
   "source": []
  }
 ],
 "metadata": {
  "kernelspec": {
   "display_name": "Python 3",
   "language": "python",
   "name": "python3"
  },
  "language_info": {
   "codemirror_mode": {
    "name": "ipython",
    "version": 3
   },
   "file_extension": ".py",
   "mimetype": "text/x-python",
   "name": "python",
   "nbconvert_exporter": "python",
   "pygments_lexer": "ipython3",
   "version": "3.6.4"
  }
 },
 "nbformat": 4,
 "nbformat_minor": 2
}
