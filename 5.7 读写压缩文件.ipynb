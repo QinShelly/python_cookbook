{
 "cells": [
  {
   "cell_type": "code",
   "execution_count": 47,
   "metadata": {},
   "outputs": [],
   "source": [
    "#with open('novel.txt', 'rt', encoding='latin-1') as f:\n",
    "with open('utf8novel.txt', 'rt') as f:\n",
    "    text = f.read()"
   ]
  },
  {
   "cell_type": "code",
   "execution_count": 48,
   "metadata": {},
   "outputs": [],
   "source": [
    "# gzip compression\n",
    "import gzip\n",
    "with gzip.open('somefile.gz','wt', compresslevel =9) as f:\n",
    "    f.write(text)"
   ]
  },
  {
   "cell_type": "code",
   "execution_count": 49,
   "metadata": {},
   "outputs": [
    {
     "name": "stdout",
     "output_type": "stream",
     "text": [
      "﻿恶意　作者东野圭吾\n",
      "\n",
      "　　事件之章　野野口修的笔记\n",
      "\n",
      "　　一\n",
      "\n",
      "    事情发生在四月十六日、星期二。\n",
      "\n",
      "　　那天下午三点半我从家里出发，前往日高邦彦的住处。日高家距离我住的地方仅隔一站\n",
      "\n",
      "电车的路\n"
     ]
    }
   ],
   "source": [
    "with gzip.open('somefile.gz','rt') as f:\n",
    "    text = f.read()\n",
    "\n",
    "print (text[0:100])"
   ]
  },
  {
   "cell_type": "code",
   "execution_count": 50,
   "metadata": {},
   "outputs": [
    {
     "name": "stdout",
     "output_type": "stream",
     "text": [
      "第一章 第一章 \n",
      "\n",
      "    那天，出去散步是不可能了。其实，早上我们还在光秃秃的灌木林中溜达了一个小时，但从午饭时起（无客造访时，里德太太很早就用午饭）便刮起了冬日凛冽的寒风，随后阴云密布，大雨滂沱，室外的活动也就只能作罢了。\n",
      "\n",
      "    我倒是求之不得。我向来不喜欢远距离散步，尤其在冷飕飕的下午。试想，阴冷的薄暮时分回得家来，手脚都冻僵了，还要受到保姆贝茵的数落，又自觉体格不如伊丽莎、约翰和乔治亚娜，心里既难过又惭愧，那情形委实可怕。\n",
      "\n",
      "    此时此刻，刚才提到的伊丽莎、约翰和乔治亚娜都在客厅里，簇拥着他们的妈妈。她则斜倚在炉边的沙发上，身旁坐着自己的小宝贝们（眼下既未争吵也未哭叫），一副安享天伦之乐的神态。而我呢，她恩准我不必同他们坐在一起了，说是她很遗憾，不得不让我独个儿在一旁呆着。要是没有亲耳从贝茜那儿听到，并且亲眼看到，我确实在尽力养成一种比较单纯随和的习性，活泼可爱的举止，也就是更开朗、更率直、更自然些，那她当真不让我享受那些只配给予快乐知足的孩子们的特权了。\n",
      "\n",
      "    “贝茵说我干了什么啦？”我问。\n",
      "\n"
     ]
    }
   ],
   "source": [
    "with open('gbnovel.txt', 'rt',encoding='gb18030') as f:\n",
    "    for i in range(5):\n",
    "        line = f.readline()\n",
    "        print(line)"
   ]
  },
  {
   "cell_type": "code",
   "execution_count": 51,
   "metadata": {},
   "outputs": [],
   "source": [
    "# bz2 compression\n",
    "import bz2\n",
    "with bz2.open('somefile.bz2','wt') as f:\n",
    "    f.write(text)"
   ]
  },
  {
   "cell_type": "code",
   "execution_count": 52,
   "metadata": {},
   "outputs": [
    {
     "name": "stdout",
     "output_type": "stream",
     "text": [
      "﻿恶意　作者东野圭吾\n",
      "\n",
      "　　事件之章　野野口修的笔记\n",
      "\n",
      "　　一\n",
      "\n",
      "    事情发生在四月十六日、星期二。\n",
      "\n",
      "　　那天下午三点半我从家里出发，前往日高邦彦的住处。日高家距离我住的地方仅隔一站\n",
      "\n",
      "电车的路\n"
     ]
    }
   ],
   "source": [
    "# bz2 compression\n",
    "import bz2\n",
    "with bz2.open('somefile.bz2', 'rt') as f:\n",
    "    text = f.read()\n",
    "\n",
    "print (text[0:100])"
   ]
  },
  {
   "cell_type": "code",
   "execution_count": null,
   "metadata": {},
   "outputs": [],
   "source": []
  }
 ],
 "metadata": {
  "kernelspec": {
   "display_name": "Python 3",
   "language": "python",
   "name": "python3"
  },
  "language_info": {
   "codemirror_mode": {
    "name": "ipython",
    "version": 3
   },
   "file_extension": ".py",
   "mimetype": "text/x-python",
   "name": "python",
   "nbconvert_exporter": "python",
   "pygments_lexer": "ipython3",
   "version": "3.6.4"
  }
 },
 "nbformat": 4,
 "nbformat_minor": 2
}
