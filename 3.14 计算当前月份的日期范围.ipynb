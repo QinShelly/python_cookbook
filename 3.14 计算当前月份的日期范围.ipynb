{
 "cells": [
  {
   "cell_type": "code",
   "execution_count": 1,
   "metadata": {},
   "outputs": [
    {
     "name": "stdout",
     "output_type": "stream",
     "text": [
      "2018-08-01\n",
      "2018-08-02\n",
      "2018-08-03\n",
      "2018-08-04\n",
      "2018-08-05\n",
      "2018-08-06\n",
      "2018-08-07\n",
      "2018-08-08\n",
      "2018-08-09\n",
      "2018-08-10\n",
      "2018-08-11\n",
      "2018-08-12\n",
      "2018-08-13\n",
      "2018-08-14\n",
      "2018-08-15\n",
      "2018-08-16\n",
      "2018-08-17\n",
      "2018-08-18\n",
      "2018-08-19\n",
      "2018-08-20\n",
      "2018-08-21\n",
      "2018-08-22\n",
      "2018-08-23\n",
      "2018-08-24\n",
      "2018-08-25\n",
      "2018-08-26\n",
      "2018-08-27\n",
      "2018-08-28\n",
      "2018-08-29\n",
      "2018-08-30\n",
      "2018-08-31\n"
     ]
    }
   ],
   "source": [
    "from datetime import datetime, date, timedelta\n",
    "import calendar\n",
    "\n",
    "def get_month_range(start_date = None):\n",
    "    if start_date is None:\n",
    "        start_date = date.today().replace(day = 1)\n",
    "    _, days_in_month = calendar.monthrange(start_date.year,start_date.month)\n",
    "    end_date = start_date + timedelta(days = days_in_month)\n",
    "    return (start_date, end_date)\n",
    "\n",
    "a_day = timedelta(days = 1)\n",
    "first_day, last_day = get_month_range()\n",
    "while first_day < last_day:\n",
    "    print(first_day)\n",
    "    first_day += a_day"
   ]
  },
  {
   "cell_type": "code",
   "execution_count": 7,
   "metadata": {},
   "outputs": [
    {
     "name": "stdout",
     "output_type": "stream",
     "text": [
      "2018-08-02 00:00:00\n",
      "2018-08-02 06:00:00\n",
      "2018-08-02 12:00:00\n",
      "2018-08-02 18:00:00\n"
     ]
    }
   ],
   "source": [
    "def date_range(start,stop, step):\n",
    "    while start < stop:\n",
    "        yield start\n",
    "        start += step\n",
    "\n",
    "for d in date_range(datetime(2018,8,2), datetime(2018,8,3), timedelta(hours = 6)):\n",
    "    print(d)"
   ]
  },
  {
   "cell_type": "code",
   "execution_count": null,
   "metadata": {},
   "outputs": [],
   "source": []
  }
 ],
 "metadata": {
  "kernelspec": {
   "display_name": "Python 3",
   "language": "python",
   "name": "python3"
  },
  "language_info": {
   "codemirror_mode": {
    "name": "ipython",
    "version": 3
   },
   "file_extension": ".py",
   "mimetype": "text/x-python",
   "name": "python",
   "nbconvert_exporter": "python",
   "pygments_lexer": "ipython3",
   "version": "3.6.4"
  }
 },
 "nbformat": 4,
 "nbformat_minor": 2
}
