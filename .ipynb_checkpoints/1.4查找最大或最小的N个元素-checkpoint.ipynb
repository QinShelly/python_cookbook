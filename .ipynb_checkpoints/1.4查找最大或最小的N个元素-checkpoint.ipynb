{
 "cells": [
  {
   "cell_type": "code",
   "execution_count": 3,
   "metadata": {},
   "outputs": [
    {
     "data": {
      "text/plain": [
       "[42, 37, 34]"
      ]
     },
     "execution_count": 3,
     "metadata": {},
     "output_type": "execute_result"
    }
   ],
   "source": [
    "import heapq\n",
    "nums = [1,8,2,34,-7,18,23,42,37,2]\n",
    "heapq.nlargest(3,nums)\n"
   ]
  },
  {
   "cell_type": "code",
   "execution_count": 4,
   "metadata": {},
   "outputs": [
    {
     "data": {
      "text/plain": [
       "[-7, 1, 2]"
      ]
     },
     "execution_count": 4,
     "metadata": {},
     "output_type": "execute_result"
    }
   ],
   "source": [
    "heapq.nsmallest(3,nums)"
   ]
  },
  {
   "cell_type": "code",
   "execution_count": 12,
   "metadata": {},
   "outputs": [
    {
     "data": {
      "text/plain": [
       "[-7, 1, 2, 34, 2, 18, 23, 42, 37, 8]"
      ]
     },
     "execution_count": 12,
     "metadata": {},
     "output_type": "execute_result"
    }
   ],
   "source": [
    "heapq.heapify(nums)\n",
    "nums"
   ]
  },
  {
   "cell_type": "code",
   "execution_count": 9,
   "metadata": {},
   "outputs": [
    {
     "data": {
      "text/plain": [
       "[{'name': 'FB', 'price': 21.09, 'shares': 200},\n",
       " {'name': 'YAHOO', 'price': 31.75, 'shares': 35},\n",
       " {'name': 'IBM', 'price': 91.1, 'shares': 100}]"
      ]
     },
     "execution_count": 9,
     "metadata": {},
     "output_type": "execute_result"
    }
   ],
   "source": [
    "portfolio = [\n",
    "    {'name':'IBM','shares':100,'price':91.1},\n",
    "     {'name':'AAPL','shares':50,'price':543.22},\n",
    "     {'name':'FB','shares':200,'price':21.09},\n",
    "     {'name':'YAHOO','shares':35,'price':31.75}\n",
    "]\n",
    "cheap = heapq.nsmallest(3,portfolio,key = lambda s:s['price'])\n",
    "cheap"
   ]
  },
  {
   "cell_type": "code",
   "execution_count": 10,
   "metadata": {},
   "outputs": [
    {
     "data": {
      "text/plain": [
       "[{'name': 'AAPL', 'price': 543.22, 'shares': 50},\n",
       " {'name': 'IBM', 'price': 91.1, 'shares': 100},\n",
       " {'name': 'YAHOO', 'price': 31.75, 'shares': 35}]"
      ]
     },
     "execution_count": 10,
     "metadata": {},
     "output_type": "execute_result"
    }
   ],
   "source": [
    "expensive = heapq.nlargest(3,portfolio,key = lambda s:s['price'])\n",
    "expensive"
   ]
  }
 ],
 "metadata": {
  "kernelspec": {
   "display_name": "Python 3",
   "language": "python",
   "name": "python3"
  },
  "language_info": {
   "codemirror_mode": {
    "name": "ipython",
    "version": 3
   },
   "file_extension": ".py",
   "mimetype": "text/x-python",
   "name": "python",
   "nbconvert_exporter": "python",
   "pygments_lexer": "ipython3",
   "version": "3.6.4"
  }
 },
 "nbformat": 4,
 "nbformat_minor": 2
}
