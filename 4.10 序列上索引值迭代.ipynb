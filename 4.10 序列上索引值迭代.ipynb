{
 "cells": [
  {
   "cell_type": "code",
   "execution_count": 2,
   "metadata": {},
   "outputs": [
    {
     "name": "stdout",
     "output_type": "stream",
     "text": [
      "0 a\n",
      "1 b\n",
      "2 c\n"
     ]
    }
   ],
   "source": [
    "my_list = ['a', 'b', 'c']\n",
    "for idx, val in enumerate(my_list):\n",
    "    print(idx,val)"
   ]
  },
  {
   "cell_type": "code",
   "execution_count": 3,
   "metadata": {},
   "outputs": [
    {
     "name": "stdout",
     "output_type": "stream",
     "text": [
      "1 a\n",
      "2 b\n",
      "3 c\n"
     ]
    }
   ],
   "source": [
    "my_list = ['a', 'b', 'c']\n",
    "for idx, val in enumerate(my_list,1):\n",
    "    print(idx,val)"
   ]
  },
  {
   "cell_type": "code",
   "execution_count": 11,
   "metadata": {},
   "outputs": [
    {
     "name": "stdout",
     "output_type": "stream",
     "text": [
      "Line 1: Parse error: invalid literal for int() with base 10: 'asdfa'\n",
      "Line 2: Parse error: invalid literal for int() with base 10: 'asdf'\n",
      "Line 3: Parse error: invalid literal for int() with base 10: 'pdfython'\n",
      "Line 4: Parse error: invalid literal for int() with base 10: 'sadf'\n",
      "Line 5: Parse error: invalid literal for int() with base 10: 'adf'\n",
      "Line 6: Parse error: invalid literal for int() with base 10: 'dsf'\n",
      "Line 7: Parse error: invalid literal for int() with base 10: 'sdfads'\n",
      "Line 8: Parse error: invalid literal for int() with base 10: 'daf'\n"
     ]
    }
   ],
   "source": [
    "def parse_data(filename):\n",
    "    with open(filename, 'rt') as f:\n",
    "        for lineno, line in enumerate(f,1):\n",
    "            fields = line.split()\n",
    "            try: \n",
    "                count = int(fields[0])\n",
    "                ...\n",
    "            except ValueError as e:\n",
    "                print ('Line {}: Parse error: {}'.format(lineno, e))\n",
    "\n",
    "parse_data('somefile.txt')"
   ]
  },
  {
   "cell_type": "code",
   "execution_count": 8,
   "metadata": {},
   "outputs": [
    {
     "data": {
      "text/plain": [
       "[5, 8]"
      ]
     },
     "execution_count": 8,
     "metadata": {},
     "output_type": "execute_result"
    }
   ],
   "source": [
    "from collections import defaultdict\n",
    "word_summary = defaultdict(list)\n",
    "\n",
    "with open('somefile.txt','r') as f:\n",
    "    lines = f.readlines()\n",
    "    \n",
    "for idx, line in enumerate(lines, 1):\n",
    "    # Create a list of words in current line\n",
    "    words = [w.strip().lower() for w in line.split()]\n",
    "    for word in words:\n",
    "        word_summary[word].append(idx)\n",
    "        \n",
    "word_summary['python']"
   ]
  },
  {
   "cell_type": "code",
   "execution_count": 9,
   "metadata": {},
   "outputs": [
    {
     "name": "stdout",
     "output_type": "stream",
     "text": [
      "0 (1, 2)\n",
      "1 (3, 4)\n",
      "2 (5, 6)\n",
      "3 (7, 8)\n"
     ]
    }
   ],
   "source": [
    "data = [ (1, 2), (3, 4), (5, 6), (7, 8) ]\n",
    "for n,(x,y) in enumerate(data):\n",
    "    print (n,(x,y))"
   ]
  },
  {
   "cell_type": "code",
   "execution_count": null,
   "metadata": {},
   "outputs": [],
   "source": []
  }
 ],
 "metadata": {
  "kernelspec": {
   "display_name": "Python 3",
   "language": "python",
   "name": "python3"
  },
  "language_info": {
   "codemirror_mode": {
    "name": "ipython",
    "version": 3
   },
   "file_extension": ".py",
   "mimetype": "text/x-python",
   "name": "python",
   "nbconvert_exporter": "python",
   "pygments_lexer": "ipython3",
   "version": "3.6.4"
  }
 },
 "nbformat": 4,
 "nbformat_minor": 2
}
